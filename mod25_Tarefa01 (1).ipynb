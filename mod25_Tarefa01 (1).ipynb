{
 "cells": [
  {
   "cell_type": "markdown",
   "metadata": {},
   "source": [
    "# Cálculo - Tarefa 01\n",
    "\n",
    "1. Marque quais desses métodos/algoritmos muito populares em ciência de dados são baseados no uso de derivada:\n",
    "\n",
    "    1. Método Mínimos Quadrados\n",
    "    2. Gradiente descendente\n",
    "    3. Newton Raphson\n",
    "    4. CART (Árvore de decisão)"
   ]
  },
  {
   "cell_type": "markdown",
   "metadata": {},
   "source": [
    "Os métodos que se baseiam no uso de derivadas são aqueles que utilizam o conceito de taxa de variação de uma função para encontrar seus pontos críticos (máximos, mínimos ou pontos de inflexão).\n",
    "\n",
    "Dentre as opções apresentadas, os métodos que se encaixam nessa descrição são:\n",
    "\n",
    "Método dos Mínimos Quadrados: Embora não seja diretamente um método de otimização baseado em derivadas, a solução analítica dos mínimos quadrados é obtida igualando a derivada da função de custo (EQM) a zero.\n",
    "Gradiente Descendente: Esse método utiliza o gradiente (vetor das derivadas parciais) da função de custo para encontrar um mínimo local.\n",
    "Newton-Raphson: Esse método também utiliza derivadas, tanto a primeira quanto a segunda, para encontrar raízes de equações. Em otimização, ele é usado para encontrar mínimos de funções.\n",
    "\n",
    "Portanto, a resposta correta inclui os métodos 1, 2 e 3.\n",
    "\n",
    "CART (Árvore de decisão): Esse método não utiliza derivadas. Ele baseia-se em critérios de impureza para dividir os dados e construir a árvore de decisão."
   ]
  },
  {
   "cell_type": "markdown",
   "metadata": {},
   "source": [
    "2. Dada uma base de dados com uma variável resposta $y$ e um conjunto de variáveis explicativas. Considere uma estrutura de um modelo de regressão. Explique com suas palavras por que não é possível obter parâmetros que forneçam um erro quadrático médio (EQM) menor que o obtido com estimadores de mínimos quadrados."
   ]
  },
  {
   "cell_type": "markdown",
   "metadata": {},
   "source": [
    "Os estimadores de mínimos quadrados são obtidos minimizando o erro quadrático médio (EQM). Por definição, o EQM mínimo é aquele que se obtém com esses estimadores.\n",
    "\n",
    "Para entender melhor, imagine o EQM como uma função dos parâmetros do modelo. Os estimadores de mínimos quadrados são os valores dos parâmetros que levam essa função a um ponto mínimo. Qualquer outro conjunto de parâmetros resultará em um EQM maior ou igual.\n",
    "\n",
    "Analogia: É como encontrar o ponto mais baixo de uma montanha. Os estimadores de mínimos quadrados são as coordenadas desse ponto mais baixo. Não existe um ponto mais baixo do que o ponto mais baixo.\n",
    "\n",
    "Em resumo:\n",
    "\n",
    "Mínimos quadrados: Encontram o menor EQM possível para um dado modelo linear.\n",
    "EQM: É uma medida de erro que se busca minimizar.\n",
    "Não é possível obter um EQM menor: Pois os estimadores de mínimos quadrados já fornecem o menor valor possível."
   ]
  },
  {
   "cell_type": "code",
   "execution_count": null,
   "metadata": {},
   "outputs": [],
   "source": []
  }
 ],
 "metadata": {
  "kernelspec": {
   "display_name": "Python 3 (ipykernel)",
   "language": "python",
   "name": "python3"
  },
  "language_info": {
   "codemirror_mode": {
    "name": "ipython",
    "version": 3
   },
   "file_extension": ".py",
   "mimetype": "text/x-python",
   "name": "python",
   "nbconvert_exporter": "python",
   "pygments_lexer": "ipython3",
   "version": "3.12.4"
  },
  "toc": {
   "base_numbering": 1,
   "nav_menu": {},
   "number_sections": true,
   "sideBar": true,
   "skip_h1_title": true,
   "title_cell": "Índice",
   "title_sidebar": "Conteúdo",
   "toc_cell": false,
   "toc_position": {},
   "toc_section_display": true,
   "toc_window_display": false
  },
  "varInspector": {
   "cols": {
    "lenName": 16,
    "lenType": 16,
    "lenVar": 40
   },
   "kernels_config": {
    "python": {
     "delete_cmd_postfix": "",
     "delete_cmd_prefix": "del ",
     "library": "var_list.py",
     "varRefreshCmd": "print(var_dic_list())"
    },
    "r": {
     "delete_cmd_postfix": ") ",
     "delete_cmd_prefix": "rm(",
     "library": "var_list.r",
     "varRefreshCmd": "cat(var_dic_list()) "
    }
   },
   "types_to_exclude": [
    "module",
    "function",
    "builtin_function_or_method",
    "instance",
    "_Feature"
   ],
   "window_display": false
  }
 },
 "nbformat": 4,
 "nbformat_minor": 4
}
